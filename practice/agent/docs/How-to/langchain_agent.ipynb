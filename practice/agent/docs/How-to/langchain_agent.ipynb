{
 "cells": [
  {
   "cell_type": "code",
   "execution_count": 4,
   "metadata": {},
   "outputs": [],
   "source": [
    "import json\n",
    "import requests\n",
    "import pandas as pd\n",
    "\n",
    "fitcloud_url = \"https://aws-dev.fitcloud.co.kr\"\n",
    "corpId = \"KDjAqAG0TnEAAAFK5eqDUL0A\"\n",
    "\n",
    "# account 별 월 별 사용량 (saving plan 포함)\n",
    "# type: usage - ApplySavingsPlanCompute\n",
    "def corp_month(\n",
    "    start_month: str, \n",
    "    end_month: str,\n",
    "    token: str,\n",
    "    groupBy=\"account\",\n",
    "    ):\n",
    "  api_url = fitcloud_url + \"/service/trend/corp/month\"\n",
    "  cookies = {\n",
    "    \"JSESSIONID\": token,\n",
    "  }\n",
    "\n",
    "  data = {\n",
    "      \"from\": start_month,\n",
    "      \"to\": end_month,\n",
    "      \"groupBy\": groupBy,\n",
    "  }\n",
    "\n",
    "  resp = requests.post(api_url, json=data, cookies=cookies)\n",
    "\n",
    "  if resp.status_code == 200:\n",
    "    # 일반 월 사용량에서 SavingPlan 가격을 제함\n",
    "    return pd.DataFrame(resp.json())\n",
    "\n",
    "  else:\n",
    "    print(\"error\")\n",
    "#------------------------------------------------------------------------------------\n",
    "# 월 입력값이  from: '201901', to: '202210'형태일 경우\n",
    "# 시작 월부터 종료 월까지 리스트로 출력\n",
    "from datetime import datetime, timedelta\n",
    "\n",
    "def month_range(start_month, end_month):\n",
    "    # Create datetime objects for start and end dates\n",
    "    start_date = datetime.strptime(start_month, \"%Y%m\")\n",
    "    end_date = datetime.strptime(end_month, \"%Y%m\")\n",
    "\n",
    "    # Initialize list to store months\n",
    "    months_list = []\n",
    "\n",
    "    # Iterate over months and add them to the list\n",
    "    current_month = start_date\n",
    "    while current_month <= end_date:\n",
    "        months_list.append(current_month.strftime(\"%Y%m\"))\n",
    "        current_month = (current_month + timedelta(days=32)).replace(day=1)\n",
    "\n",
    "    return months_list\n",
    "#-------------------------------------------------------------------------------------\n",
    "# account 일자별 사용량을 반환\n",
    "def ondemand_account_day(\n",
    "    accountId: str, \n",
    "    day_from: str, \n",
    "    day_to: str, \n",
    "    token: str) -> float:\n",
    "  api_url = fitcloud_url + \"/ondemand/account/day\"\n",
    "  cookies = {\n",
    "    \"JSESSIONID\": token,\n",
    "  }\n",
    "\n",
    "  data = {\n",
    "      \"from\": day_from,\n",
    "      \"to\": day_to,\n",
    "      \"accountId\": accountId,\n",
    "  }\n",
    "  resp = requests.post(api_url, json=data, cookies=cookies)\n",
    "\n",
    "  if resp.status_code == 200:\n",
    "    # JSON 형식으로 응답을 파싱 후 usageFee 합계를 구하기 위해 dataframe 의 변환\n",
    "    df = pd.DataFrame(resp.json())\n",
    "    usage_sum = round( df['usage_fee'].astype(\"Float32\").sum(), 2)\n",
    "    return usage_sum\n",
    "\n",
    "  else:\n",
    "    print(\"error\")\n",
    "\n",
    "def corp_month_internal(start_month: str, end_month: str, accountId: str, token: str):\n",
    "  \"\"\"calculate resource usage per account. The period could be one month, or it could be several months. Usage is expressed in dollars.\n",
    "  \"\"\"\n",
    "  json_data = corp_month(start_month, end_month, token)\n",
    "  df = pd.DataFrame(json_data)\n",
    "  # accountId = accountId\n",
    "  # account에 관련된 데이터 추출\n",
    "  df = df.query(\"accountId==@accountId\")\n",
    "  # 기간 내 월 리스트 추출\n",
    "  month_list = month_range(start_month, end_month)\n",
    "  # 월 column의 data type을 numeric으로 변환\n",
    "  df_acc = df.copy()\n",
    "  df_acc[month_list] = df_acc[month_list].apply(pd.to_numeric)\n",
    "  # 내부 사용자용 filter: 합산에 포함시킬 항목\n",
    "  internal_filter = ['Usage','ApplySavingsPlanCompute', 'ApplyRI' ]\n",
    "  # internal_filter = ['Usage','ApplySavingsPlanCompute']\n",
    "  df_int = df_acc.query(\"type in @internal_filter\")\n",
    "  sum = df_int[month_list].sum().sum()\n",
    "  return sum\n",
    "\n",
    "   "
   ]
  },
  {
   "cell_type": "code",
   "execution_count": 1,
   "metadata": {},
   "outputs": [],
   "source": [
    "from typing import Optional, Type\n",
    "\n",
    "from langchain.callbacks.manager import (\n",
    "    AsyncCallbackManagerForToolRun,\n",
    "    CallbackManagerForToolRun\n",
    ")\n",
    "\n",
    "from langchain.pydantic_v1 import BaseModel, Field\n",
    "from langchain.tools import BaseTool, tool\n",
    "\n",
    "\n",
    "class FitUsageInput(BaseModel):\n",
    "    start_month: str = Field(description=\"the starting month in period\")\n",
    "    end_month: str = Field(description=\"the end month in period\")\n",
    "    accountId: str = Field(description=\"account id\")\n",
    "    token: str = Field(description=\"JSESSIONID\")\n",
    "\n",
    "class FitUsageTool(BaseTool):\n",
    "    name = \"get_usage\"\n",
    "    description = \"calculate resource usage per account. The period could be one month, or it could be several months. Usage is expressed in dollars.\"\n",
    "    args_schema: type[BaseModel] = FitUsageInput\n",
    "\n",
    "    def _run(self, start_month, end_month, accountId, token, int, run_manager: Optional[CallbackManagerForToolRun] = None) -> float:\n",
    "        json_data = corp_month(start_month, end_month, token)\n",
    "        df = pd.DataFrame(json_data)\n",
    "        # accountId = accountId\n",
    "        # account에 관련된 데이터 추출\n",
    "        df = df.query(\"accountId==@accountId\")\n",
    "        # 기간 내 월 리스트 추출\n",
    "        month_list = month_range(start_month, end_month)\n",
    "        # 월 column의 data type을 numeric으로 변환\n",
    "        df_acc = df.copy()\n",
    "        df_acc[month_list] = df_acc[month_list].apply(pd.to_numeric)\n",
    "        # 내부 사용자용 filter: 합산에 포함시킬 항목\n",
    "        internal_filter = ['Usage','ApplySavingsPlanCompute', 'ApplyRI' ]\n",
    "        # internal_filter = ['Usage','ApplySavingsPlanCompute']\n",
    "        df_int = df_acc.query(\"type in @internal_filter\")\n",
    "        sum = df_int[month_list].sum().sum()\n",
    "        return sum\n",
    "    \n",
    "    async def _arun(self, start_month, end_month, accountId, token, int, run_manager: Optional[CallbackManagerForToolRun] = None) -> float:\n",
    "        \"\"\"Use the tool asynchronously.\"\"\"\n",
    "        raise NotImplementedError(\"Calculator does not support async\")\n"
   ]
  },
  {
   "cell_type": "code",
   "execution_count": 2,
   "metadata": {},
   "outputs": [
    {
     "name": "stdout",
     "output_type": "stream",
     "text": [
      "get_usage\n",
      "calculate resource usage per account. The period could be one month, or it could be several months. Usage is expressed in dollars.\n",
      "{'start_month': {'title': 'Start Month', 'description': 'the starting month in period', 'type': 'string'}, 'end_month': {'title': 'End Month', 'description': 'the end month in period', 'type': 'string'}, 'accountId': {'title': 'Accountid', 'description': 'account id', 'type': 'string'}, 'token': {'title': 'Token', 'description': 'JSESSIONID', 'type': 'string'}}\n"
     ]
    }
   ],
   "source": [
    "fit_usage = FitUsageTool()\n",
    "print(fit_usage.name)\n",
    "print(fit_usage.description)\n",
    "print(fit_usage.args)"
   ]
  },
  {
   "cell_type": "code",
   "execution_count": 5,
   "metadata": {},
   "outputs": [],
   "source": [
    "# StructuredTool dataclass\n",
    "# https://blog.langchain.dev/structured-tools/\n",
    "from langchain.tools.base import StructuredTool\n",
    "\n",
    "usage = StructuredTool.from_function(\n",
    "    func=corp_month_internal,\n",
    "    name=\"get_usage\",\n",
    "    description=\"calculate resource usage per account. The period could be one month, or it could be several months. Usage is expressed in dollars\"\n",
    ")"
   ]
  },
  {
   "cell_type": "code",
   "execution_count": null,
   "metadata": {},
   "outputs": [],
   "source": [
    "start_month = \"202309\"\n",
    "end_month = \"202309\"\n",
    "accountId = \"532805286864\"\n",
    "token = \"\"\n",
    "corp_month_internal(start_month=start_month, end_month=end_month, accountId=accountId, token=token)\n"
   ]
  },
  {
   "cell_type": "code",
   "execution_count": 4,
   "metadata": {},
   "outputs": [],
   "source": [
    "import boto3\n",
    "from langchain.llms.bedrock import Bedrock\n",
    "\n",
    "# Create bedrock runtime client\n",
    "session = boto3.session.Session(region_name='us-east-1')\n",
    "br_client = session.client(\"bedrock-runtime\")\n",
    "\n",
    "llm = Bedrock(\n",
    "    model_id=\"anthropic.claude-v2\",\n",
    "    client=br_client,\n",
    "    model_kwargs={\n",
    "        \"temperature\": 0\n",
    "    }\n",
    ")\n",
    "\n"
   ]
  },
  {
   "cell_type": "code",
   "execution_count": 5,
   "metadata": {},
   "outputs": [
    {
     "data": {
      "text/plain": [
       "' Steve Jobs (1955-2011) was an American entrepreneur and business magnate. He was the co-founder, chairman, and CEO of Apple Inc. Some key facts about Steve Jobs:\\n\\n- Co-founded Apple with Steve Wozniak in 1976 and led the company for over 3 decades until his death in 2011. Credited with revolutionizing personal computers, digital music players, smartphones, and tablet computers.\\n\\n- Pioneered innovations like the iMac, iPod, iPhone, and iPad. Helped popularize the computer mouse, email, and laser printers.\\n\\n- Co-founded animation studio Pixar and served as its CEO. Pixar movies like Toy Story pioneered computer animation techniques. \\n\\n- Known for his dynamic leadership style, perfectionism, and unconventional business approach. Often wore jeans and a black turtleneck.\\n\\n- Dropped out of college and traveled through India seeking enlightenment before co-founding Apple. Later returned to run Apple after being ousted in 1985.\\n\\n- Died in 2011 at age 56 after a lengthy battle with pancreatic cancer. Left behind an unparalleled legacy of innovation that shaped consumer technology for decades.\\n\\nIn summary, Steve Jobs was one'"
      ]
     },
     "execution_count": 5,
     "metadata": {},
     "output_type": "execute_result"
    }
   ],
   "source": [
    "llm.invoke(\"who is steve jobs?\")"
   ]
  },
  {
   "cell_type": "code",
   "execution_count": null,
   "metadata": {},
   "outputs": [],
   "source": []
  }
 ],
 "metadata": {
  "kernelspec": {
   "display_name": "dev",
   "language": "python",
   "name": "python3"
  },
  "language_info": {
   "codemirror_mode": {
    "name": "ipython",
    "version": 3
   },
   "file_extension": ".py",
   "mimetype": "text/x-python",
   "name": "python",
   "nbconvert_exporter": "python",
   "pygments_lexer": "ipython3",
   "version": "3.12.1"
  }
 },
 "nbformat": 4,
 "nbformat_minor": 2
}
