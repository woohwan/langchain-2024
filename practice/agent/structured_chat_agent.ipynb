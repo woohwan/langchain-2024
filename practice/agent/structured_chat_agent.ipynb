{
 "cells": [
  {
   "cell_type": "markdown",
   "metadata": {},
   "source": [
    "### 함수 정의"
   ]
  },
  {
   "cell_type": "code",
   "execution_count": 11,
   "metadata": {},
   "outputs": [],
   "source": [
    "import json\n",
    "import requests\n",
    "import pandas as pd\n",
    "\n",
    "fitcloud_url = \"https://aws-dev.fitcloud.co.kr\"\n",
    "corpId = \"KDjAqAG0TnEAAAFK5eqDUL0A\"\n",
    "\n",
    "# account 별 월 별 사용량 (saving plan 포함)\n",
    "# type: usage - ApplySavingsPlanCompute\n",
    "def corp_month(\n",
    "    start_month: str, \n",
    "    end_month: str,\n",
    "    token: str,\n",
    "    groupBy=\"account\",\n",
    "    ):\n",
    "  api_url = fitcloud_url + \"/service/trend/corp/month\"\n",
    "  cookies = {\n",
    "    \"JSESSIONID\": token,\n",
    "  }\n",
    "\n",
    "  data = {\n",
    "      \"from\": start_month,\n",
    "      \"to\": end_month,\n",
    "      \"groupBy\": groupBy,\n",
    "  }\n",
    "\n",
    "  resp = requests.post(api_url, json=data, cookies=cookies)\n",
    "\n",
    "  if resp.status_code == 200:\n",
    "    # 일반 월 사용량에서 SavingPlan 가격을 제함\n",
    "    return pd.DataFrame(resp.json())\n",
    "\n",
    "  else:\n",
    "    print(\"error\")\n",
    "#------------------------------------------------------------------------------------\n",
    "# 월 입력값이  from: '201901', to: '202210'형태일 경우\n",
    "# 시작 월부터 종료 월까지 리스트로 출력\n",
    "from datetime import datetime, timedelta\n",
    "\n",
    "def month_range(start_month, end_month):\n",
    "    # Create datetime objects for start and end dates\n",
    "    start_date = datetime.strptime(start_month, \"%Y%m\")\n",
    "    end_date = datetime.strptime(end_month, \"%Y%m\")\n",
    "\n",
    "    # Initialize list to store months\n",
    "    months_list = []\n",
    "\n",
    "    # Iterate over months and add them to the list\n",
    "    current_month = start_date\n",
    "    while current_month <= end_date:\n",
    "        months_list.append(current_month.strftime(\"%Y%m\"))\n",
    "        current_month = (current_month + timedelta(days=32)).replace(day=1)\n",
    "\n",
    "    return months_list\n",
    "#-------------------------------------------------------------------------------------\n",
    "# account 일자별 사용량을 반환\n",
    "def ondemand_account_day(\n",
    "    accountId: str, \n",
    "    day_from: str, \n",
    "    day_to: str, \n",
    "    token: str) -> float:\n",
    "  api_url = fitcloud_url + \"/ondemand/account/day\"\n",
    "  cookies = {\n",
    "    \"JSESSIONID\": token,\n",
    "  }\n",
    "\n",
    "  data = {\n",
    "      \"from\": day_from,\n",
    "      \"to\": day_to,\n",
    "      \"accountId\": accountId,\n",
    "  }\n",
    "  resp = requests.post(api_url, json=data, cookies=cookies)\n",
    "\n",
    "  if resp.status_code == 200:\n",
    "    # JSON 형식으로 응답을 파싱 후 usageFee 합계를 구하기 위해 dataframe 의 변환\n",
    "    df = pd.DataFrame(resp.json())\n",
    "    usage_sum = round( df['usage_fee'].astype(\"Float32\").sum(), 2)\n",
    "    return usage_sum\n",
    "\n",
    "  else:\n",
    "    print(\"error\")\n",
    "\n",
    "def corp_month_internal(start_month: str, end_month: str, accountId: str, token: str):\n",
    "  \"\"\"calculate resource usage per account. The period could be one month, or it could be several months. Usage is expressed in dollars.\n",
    "  \"\"\"\n",
    "  json_data = corp_month(start_month, end_month, token)\n",
    "  df = pd.DataFrame(json_data)\n",
    "  # accountId = accountId\n",
    "  # account에 관련된 데이터 추출\n",
    "  # df = df.query(\"accountId==@accountId\")\n",
    "  df = df[df['accountId'] == accountId]\n",
    "  # 기간 내 월 리스트 추출\n",
    "  month_list = month_range(start_month, end_month)\n",
    "  # 월 column의 data type을 numeric으로 변환\n",
    "  df_acc = df.copy()\n",
    "  df_acc[month_list] = df_acc[month_list].apply(pd.to_numeric)\n",
    "  # 내부 사용자용 filter: 합산에 포함시킬 항목\n",
    "  internal_filter = ['Usage','ApplySavingsPlanCompute', 'ApplyRI' ]\n",
    "  # internal_filter = ['Usage','ApplySavingsPlanCompute']\n",
    "  df_int = df_acc.query(\"type in @internal_filter\")\n",
    "  sum = df_int[month_list].sum().sum()\n",
    "  return sum\n",
    "\n",
    "   "
   ]
  },
  {
   "cell_type": "code",
   "execution_count": 12,
   "metadata": {},
   "outputs": [],
   "source": [
    "# corp_month_internal('202309', '202309', '532805286864', \"260719F9EBEC4E30B7CFF4E9BA7E1FF9\")"
   ]
  },
  {
   "cell_type": "markdown",
   "metadata": {},
   "source": [
    "### 툴(Tool) 정의"
   ]
  },
  {
   "cell_type": "code",
   "execution_count": 13,
   "metadata": {},
   "outputs": [],
   "source": [
    "# StructuredTool dataclass\n",
    "# https://blog.langchain.dev/structured-tools/\n",
    "\n",
    "from langchain.tools.base import StructuredTool\n",
    "\n",
    "usage = StructuredTool.from_function(\n",
    "    func=corp_month_internal,\n",
    "    name=\"get_usage\",\n",
    "    description=\"calculate resource usage per account. The period could be one month, or it could be several months. Usage is expressed in dollars\"\n",
    ")"
   ]
  },
  {
   "cell_type": "markdown",
   "metadata": {},
   "source": [
    "### LLM 정의 (추론엔진)"
   ]
  },
  {
   "cell_type": "code",
   "execution_count": 14,
   "metadata": {},
   "outputs": [],
   "source": [
    "import boto3\n",
    "from langchain.llms.bedrock import Bedrock\n",
    "from langchain.agents import AgentExecutor, create_structured_chat_agent\n",
    "\n",
    "# Create bedrock runtime client\n",
    "session = boto3.session.Session(region_name='us-east-1')\n",
    "br_client = session.client(\"bedrock-runtime\")\n",
    "\n",
    "llm = Bedrock(\n",
    "    model_id=\"anthropic.claude-v2\",\n",
    "    client=br_client,\n",
    "    model_kwargs={\n",
    "        \"temperature\": 0,\n",
    "    },\n",
    ")"
   ]
  },
  {
   "cell_type": "markdown",
   "metadata": {},
   "source": [
    "### Prompt 설정"
   ]
  },
  {
   "cell_type": "code",
   "execution_count": 15,
   "metadata": {},
   "outputs": [
    {
     "name": "stdout",
     "output_type": "stream",
     "text": [
      "ChatPromptTemplate(input_variables=['agent_scratchpad', 'input', 'tool_names', 'tools'], messages=[SystemMessagePromptTemplate(prompt=PromptTemplate(input_variables=['tool_names', 'tools'], template=\"You are a helpful Assistant. Answer the following questions as best you can\\n\\nYou have access to the following tools:\\n\\n{tools}\\n\\nUse the following format:\\n\\nQuestion: the input question you must answer\\nThought: you should always think about what to do\\nAction: the action to take, should be one of [{tool_names}]\\nAction Input: the input to the action\\nObservation: the result of the action\\n... (this Thought/Action/Action Input/Observation can repeat N times)\\nThought: I now know the final answer\\nFinal Answer: the final answer to the original input question\\n\\nBegin! \\nstart_month and end_month in parameter has form '%Y%m'.\\nfor example,  '202309'\")), HumanMessagePromptTemplate(prompt=PromptTemplate(input_variables=['agent_scratchpad', 'input'], template='{input}\\n\\n{agent_scratchpad}'))])\n"
     ]
    }
   ],
   "source": [
    "from langchain import hub\n",
    "from langchain_core.prompts import ChatPromptTemplate\n",
    "from pprint import pprint\n",
    "\n",
    "# Get the prompt to use - you can modify this!\n",
    "# prompt = hub.pull(\"hwchase17/structured-chat-agent\")\n",
    "# prompt = hub.pull(\"richard-park/structured-chat-agent\")\n",
    "# prompt = hub.pull(\"richard-park/structured-chat-agent-0226\")\n",
    "template = \"\"\"You are a helpful assistant. Help the user answer any questions.\n",
    "The starting month and end month passed to the parameter must be in the form '%Y%m'. for example, not 'September 2023' but '202309'\n",
    "You have access to the following tools:\n",
    "\n",
    "{tools}\n",
    "\n",
    "Use the following format:\n",
    "\n",
    "Question: the input question you must answer\n",
    "Thought: you should always think about what to do\n",
    "Action: the action to take, should be one of [{tool_names}]\n",
    "Action Input: the input to the action\n",
    "Observation: the result of the action\n",
    "... (this Thought/Action/Action Input/Observation can repeat N times)\n",
    "Thought: I now know the final answer\n",
    "Final Answer: the final answer to the original input question\n",
    "\n",
    "Begin! Reminder to ALWAYS respond with a valid json blob of a single action. Use tools if necessary. \n",
    "Respond directly if appropriate. Format is Action:```$JSON_BLOB```the Observation\n",
    "\n",
    "HUMAN\n",
    "{input}\n",
    "\n",
    "{agent_scratchpad}\n",
    " (reminder to respond in a JSON blob no matter what)\n",
    "\"\"\"\n",
    "\n",
    "prompt = ChatPromptTemplate.from_template(\n",
    "    template=template\n",
    ")\n",
    "pprint(prompt)"
   ]
  },
  {
   "cell_type": "markdown",
   "metadata": {},
   "source": [
    "### Agent 설정"
   ]
  },
  {
   "cell_type": "code",
   "execution_count": 16,
   "metadata": {},
   "outputs": [],
   "source": [
    "from langchain.agents import create_structured_chat_agent\n",
    "\n",
    "tools = [ usage ]\n",
    "agent = create_structured_chat_agent(llm=llm, tools=tools, prompt=prompt)"
   ]
  },
  {
   "cell_type": "markdown",
   "metadata": {},
   "source": [
    "### Run Agent"
   ]
  },
  {
   "cell_type": "code",
   "execution_count": 17,
   "metadata": {},
   "outputs": [],
   "source": [
    "# Create an agent executor by passing in the agent and tools\n",
    "agent_executor = AgentExecutor(\n",
    "  agent=agent, tools=tools, verbose=True, handle_parsing_errors=True, max_iterations=2\n",
    ")"
   ]
  },
  {
   "cell_type": "code",
   "execution_count": 18,
   "metadata": {},
   "outputs": [
    {
     "name": "stdout",
     "output_type": "stream",
     "text": [
      "\n",
      "\n",
      "\u001b[1m> Entering new AgentExecutor chain...\u001b[0m\n",
      "\u001b[32;1m\u001b[1;3mCould not parse LLM output:  Question: token 값은 '00CCB9DD31EFA9D61967D1F9B33B322C'입니다. account id 532805286864의 2023년 9월에서 10월 자원 사용량은?\n",
      "\n",
      "Thought: To find the resource usage for the given account between the specified months, I need to call the get_usage function with the start_month, end_month, accountId and token as parameters.\n",
      "\n",
      "Action: get_usage\n",
      "Action Input: \n",
      "start_month: '202309'\n",
      "end_month: '202310'  \n",
      "accountId: '532805286864'\n",
      "token: '00CCB9DD31EFA9D61967D1F9B33B322C'\n",
      "\n",
      "\u001b[0mInvalid or incomplete response\u001b[32;1m\u001b[1;3mCould not parse LLM output:  Unfortunately I do not have access to a real get_usage function, so I cannot retrieve the actual usage data. Based on the information provided, the best I can do is provide a placeholder response indicating that I would call get_usage if I had access to it.\u001b[0mInvalid or incomplete response\u001b[32;1m\u001b[1;3m\u001b[0m\n",
      "\n",
      "\u001b[1m> Finished chain.\u001b[0m\n"
     ]
    },
    {
     "data": {
      "text/plain": [
       "{'input': \"token 값은 '00CCB9DD31EFA9D61967D1F9B33B322C'입니다. account id 532805286864의 2023년 9월에서 10월 자원 사용량은?\",\n",
       " 'output': 'Agent stopped due to iteration limit or time limit.'}"
      ]
     },
     "execution_count": 18,
     "metadata": {},
     "output_type": "execute_result"
    }
   ],
   "source": [
    "agent_executor.invoke({\"input\": \"token 값은 '00CCB9DD31EFA9D61967D1F9B33B322C'입니다. account id 532805286864의 2023년 9월에서 10월 자원 사용량은?\"})"
   ]
  },
  {
   "cell_type": "code",
   "execution_count": null,
   "metadata": {},
   "outputs": [],
   "source": []
  }
 ],
 "metadata": {
  "kernelspec": {
   "display_name": "dev",
   "language": "python",
   "name": "python3"
  },
  "language_info": {
   "codemirror_mode": {
    "name": "ipython",
    "version": 3
   },
   "file_extension": ".py",
   "mimetype": "text/x-python",
   "name": "python",
   "nbconvert_exporter": "python",
   "pygments_lexer": "ipython3",
   "version": "3.12.1"
  }
 },
 "nbformat": 4,
 "nbformat_minor": 2
}
