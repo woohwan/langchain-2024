{
 "cells": [
  {
   "cell_type": "code",
   "execution_count": 61,
   "metadata": {},
   "outputs": [],
   "source": [
    "%reset -f"
   ]
  },
  {
   "cell_type": "code",
   "execution_count": 62,
   "metadata": {},
   "outputs": [],
   "source": [
    "import json\n",
    "import requests\n",
    "import pandas as pd\n",
    "\n",
    "fitcloud_url = \"https://aws-dev.fitcloud.co.kr\"\n",
    "corpId = \"KDjAqAG0TnEAAAFK5eqDUL0A\"\n",
    "\n",
    "# account 별 월 별 사용량 (saving plan 포함)\n",
    "# type: usage - ApplySavingsPlanCompute\n",
    "def corp_month(\n",
    "    start_month: str, \n",
    "    end_month: str,\n",
    "    token: str,\n",
    "    groupBy=\"account\",\n",
    "    ):\n",
    "  api_url = fitcloud_url + \"/service/trend/corp/month\"\n",
    "  cookies = {\n",
    "    \"JSESSIONID\": token,\n",
    "  }\n",
    "\n",
    "  data = {\n",
    "      \"from\": start_month,\n",
    "      \"to\": end_month,\n",
    "      \"groupBy\": groupBy,\n",
    "  }\n",
    "\n",
    "  resp = requests.post(api_url, json=data, cookies=cookies)\n",
    "\n",
    "  if resp.status_code == 200:\n",
    "    # 일반 월 사용량에서 SavingPlan 가격을 제함\n",
    "    return pd.DataFrame(resp.json())\n",
    "\n",
    "  else:\n",
    "    print(\"error\")\n",
    "#------------------------------------------------------------------------------------\n",
    "# 월 입력값이  from: '201901', to: '202210'형태일 경우\n",
    "# 시작 월부터 종료 월까지 리스트로 출력\n",
    "from datetime import datetime, timedelta\n",
    "\n",
    "def month_range(start_month, end_month):\n",
    "    # Create datetime objects for start and end dates\n",
    "    start_date = datetime.strptime(start_month, \"%Y%m\")\n",
    "    end_date = datetime.strptime(end_month, \"%Y%m\")\n",
    "\n",
    "    # Initialize list to store months\n",
    "    months_list = []\n",
    "\n",
    "    # Iterate over months and add them to the list\n",
    "    current_month = start_date\n",
    "    while current_month <= end_date:\n",
    "        months_list.append(current_month.strftime(\"%Y%m\"))\n",
    "        current_month = (current_month + timedelta(days=32)).replace(day=1)\n",
    "\n",
    "    return months_list\n",
    "#-------------------------------------------------------------------------------------\n",
    "# account 일자별 사용량을 반환\n",
    "def ondemand_account_day(\n",
    "    accountId: str, \n",
    "    day_from: str, \n",
    "    day_to: str, \n",
    "    token: str) -> float:\n",
    "  api_url = fitcloud_url + \"/ondemand/account/day\"\n",
    "  cookies = {\n",
    "    \"JSESSIONID\": token,\n",
    "  }\n",
    "\n",
    "  data = {\n",
    "      \"from\": day_from,\n",
    "      \"to\": day_to,\n",
    "      \"accountId\": accountId,\n",
    "  }\n",
    "  resp = requests.post(api_url, json=data, cookies=cookies)\n",
    "\n",
    "  if resp.status_code == 200:\n",
    "    # JSON 형식으로 응답을 파싱 후 usageFee 합계를 구하기 위해 dataframe 의 변환\n",
    "    df = pd.DataFrame(resp.json())\n",
    "    usage_sum = round( df['usage_fee'].astype(\"Float32\").sum(), 2)\n",
    "    return usage_sum\n",
    "\n",
    "  else:\n",
    "    print(\"error\")\n",
    "\n",
    "# def corp_month_internal(start_month: str, end_month: str, accountId: str, token: str):\n",
    "#   \"\"\"calculate resource usage per account. The period could be one month, or it could be several months. Usage is expressed in dollars.\n",
    "#   \"\"\"\n",
    "#   json_data = corp_month(start_month, end_month, token)\n",
    "#   df = pd.DataFrame(json_data)\n",
    "#   # accountId = accountId\n",
    "#   # account에 관련된 데이터 추출\n",
    "#   df = df.query(\"accountId==@accountId\")\n",
    "#   # 기간 내 월 리스트 추출\n",
    "#   month_list = month_range(start_month, end_month)\n",
    "#   # 월 column의 data type을 numeric으로 변환\n",
    "#   df_acc = df.copy()\n",
    "#   df_acc[month_list] = df_acc[month_list].apply(pd.to_numeric)\n",
    "#   # 내부 사용자용 filter: 합산에 포함시킬 항목\n",
    "#   internal_filter = ['Usage','ApplySavingsPlanCompute', 'ApplyRI' ]\n",
    "#   # internal_filter = ['Usage','ApplySavingsPlanCompute']\n",
    "#   df_int = df_acc.query(\"type in @internal_filter\")\n",
    "#   sum = df_int[month_list].sum().sum()\n",
    "#   return sum"
   ]
  },
  {
   "cell_type": "code",
   "execution_count": 63,
   "metadata": {},
   "outputs": [],
   "source": [
    "from tool_use_package.tools.base_tool import BaseTool\n",
    "\n",
    "# class 이름을 tool 이름으로 사용\n",
    "class UsageOfAmount(BaseTool):\n",
    "  \"\"\"calculate resource usage per account. The period could be one month, or it could be several months. Usage is expressed in dollars.  \n",
    "  \"\"\"\n",
    "  def use_tool(self, start_month: str, end_month: str, accountId: str, token: str ):\n",
    "    json_data = corp_month(start_month, end_month, token)\n",
    "    df = pd.DataFrame(json_data)\n",
    "    accountId = accountId\n",
    "    df = df.query(\"accountId==@accountId\")\n",
    "    # 기간 내 월 리스트 추출\n",
    "    month_list = month_range(start_month, end_month)\n",
    "    # 월 column의 data type을 numeric으로 변환\n",
    "    df_acc = df.copy()\n",
    "    df_acc[month_list] = df_acc[month_list].apply(pd.to_numeric)\n",
    "    #내부 사용자용 filter: 합산에 포함시킬 항목\n",
    "    internal_filter = ['Usage','ApplySavingsPlanCompute', 'ApplyRI' ]\n",
    "    df_int = df_acc.query(\"type in @internal_filter\")\n",
    "    sum = df_int[month_list].sum().sum()\n",
    "    return sum"
   ]
  },
  {
   "cell_type": "code",
   "execution_count": 64,
   "metadata": {},
   "outputs": [],
   "source": [
    "tool_name = \"get_amount_of_usage\"\n",
    "tool_description = \"calculate resource usage per account. The period could be one month, or it could be several months. Usage is expressed in dollars.\"\n",
    "tool_parameters = [\n",
    "  {\"name\": \"start_month\", \"type\": \"str\", \"description\": \"the starting month in period to calulate usage amount\"},\n",
    "  {\"name\": \"end_month\", \"type\": \"str\", \"description\": \"the end month in period to calulate usage amount\"},\n",
    "  {\"name\": \"accountId\", \"type\": \"str\", \"description\": \"account number\"},\n",
    "  {\"name\": \"token\", \"type\": \"str\", \"description\": \"account number\"},\n",
    "]\n",
    "\n",
    "time_of_day_tool = UsageOfAmount(tool_name, tool_description, tool_parameters)"
   ]
  },
  {
   "cell_type": "code",
   "execution_count": 65,
   "metadata": {},
   "outputs": [],
   "source": [
    "from tool_use_package.tool_user import ToolUser\n",
    "time_tool_user = ToolUser([time_of_day_tool], first_party=False, model=\"anthropic.claude-v2:1\")"
   ]
  },
  {
   "cell_type": "code",
   "execution_count": 66,
   "metadata": {},
   "outputs": [],
   "source": [
    "accountId = \"532805286864\"\n",
    "token = \"E578C5BF1A0E7DAFCAD875DC4A355B65\""
   ]
  },
  {
   "cell_type": "code",
   "execution_count": 68,
   "metadata": {},
   "outputs": [
    {
     "name": "stdout",
     "output_type": "stream",
     "text": [
      "accountId는 532805286864 이고, token은 E578C5BF1A0E7DAFCAD875DC4A355B65입니다, \n",
      "        start_month와 end_month format은 '%Y%m'입니다.\n",
      "        오늘은 2024년 3월 15일 입니다. \n",
      "        year 정보가 부족할 경우 <year></year>사이의 정보를 사용하세요\n",
      "        <year>2024</year>\n",
      "        2월 자원 사용량은?\n"
     ]
    }
   ],
   "source": [
    "import datetime\n",
    "\n",
    "year = datetime.date.today().year\n",
    "month = datetime.date.today().month\n",
    "day = datetime.date.today().day\n",
    "\n",
    "prompt = f\"\"\"accountId는 {accountId} 이고, token은 {token}입니다, \n",
    "        start_month와 end_month format은 '%Y%m'입니다.\n",
    "        오늘은 {year}년 {month}월 {day}일 입니다. \n",
    "        year 정보가 부족할 경우 <year></year>사이의 정보를 사용하세요\n",
    "        <year>{year}</year>\n",
    "        2월 자원 사용량은?\"\"\"\n",
    "\n",
    "print(prompt)"
   ]
  },
  {
   "cell_type": "code",
   "execution_count": 69,
   "metadata": {},
   "outputs": [
    {
     "data": {
      "text/plain": [
       "{'role': 'tool_inputs',\n",
       " 'content': ' ',\n",
       " 'tool_inputs': [{'tool_name': 'get_amount_of_usage',\n",
       "   'tool_arguments': {'accountId': '532805286864',\n",
       "    'token': 'E578C5BF1A0E7DAFCAD875DC4A355B65',\n",
       "    'start_month': '202302',\n",
       "    'end_month': '202302'}}]}"
      ]
     },
     "execution_count": 69,
     "metadata": {},
     "output_type": "execute_result"
    }
   ],
   "source": [
    "messages = [ {'role': 'user', 'content': prompt}]\n",
    "time_tool_user.use_tools(messages, execution_mode='manual')"
   ]
  },
  {
   "cell_type": "code",
   "execution_count": null,
   "metadata": {},
   "outputs": [],
   "source": []
  }
 ],
 "metadata": {
  "kernelspec": {
   "display_name": "dev",
   "language": "python",
   "name": "python3"
  },
  "language_info": {
   "codemirror_mode": {
    "name": "ipython",
    "version": 3
   },
   "file_extension": ".py",
   "mimetype": "text/x-python",
   "name": "python",
   "nbconvert_exporter": "python",
   "pygments_lexer": "ipython3",
   "version": "3.11.7"
  }
 },
 "nbformat": 4,
 "nbformat_minor": 2
}
