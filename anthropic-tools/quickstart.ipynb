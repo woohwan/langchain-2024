{
 "cells": [
  {
   "cell_type": "code",
   "execution_count": 5,
   "metadata": {},
   "outputs": [],
   "source": [
    "import datetime, zoneinfo\n",
    "from tool_use_package.tools.base_tool import BaseTool\n",
    "\n",
    "class TimeOfDayTool(BaseTool):\n",
    "    \"\"\"Tool to get the current time of day.\"\"\"\n",
    "    def use_tool(self, time_zone):\n",
    "        # Get the current time\n",
    "        now = datetime.datetime.now()\n",
    "\n",
    "        # Convert to the specified time zone\n",
    "        tz = zoneinfo.ZoneInfo(time_zone)\n",
    "        localized_time = now.astimezone(tz)\n",
    "\n",
    "        return localized_time.strftime(\"%H:%M:%S\")"
   ]
  },
  {
   "cell_type": "code",
   "execution_count": 6,
   "metadata": {},
   "outputs": [],
   "source": [
    "tool_name = \"get_time_of_day\"\n",
    "tool_description = \"Retrieve the current time of day in Hour-Minute-Second format for a specified time zone. Time zones should be written in standard formats such as UTC, US/Pacific, Europe/London.\"\n",
    "tool_parameters = [\n",
    "  {\"name\": \"time_zone\", \"type\": \"str\", \"description\": \"The time zone to get the current time for, such as UTC, US/Pacific, Europic/London.\"} \n",
    "]\n",
    "\n",
    "time_of_day_tool = TimeOfDayTool(tool_name, tool_description, tool_parameters)"
   ]
  },
  {
   "cell_type": "code",
   "execution_count": 7,
   "metadata": {},
   "outputs": [],
   "source": [
    "from tool_use_package.tool_user import ToolUser\n",
    "time_tool_user = ToolUser([time_of_day_tool], first_party=False, model=\"anthropic.claude-v2:1\")"
   ]
  },
  {
   "cell_type": "code",
   "execution_count": 8,
   "metadata": {},
   "outputs": [
    {
     "data": {
      "text/plain": [
       "'\\n\\nThe current time in Los Angeles is 19:08:22 or 7:08:22 PM. I used the get_time_of_day tool to retrieve the current time for the US/Pacific time zone, which covers Los Angeles.'"
      ]
     },
     "execution_count": 8,
     "metadata": {},
     "output_type": "execute_result"
    }
   ],
   "source": [
    "messages = [ {'role': 'user', 'content': 'What time is it in Los Angeles?'}]\n",
    "time_tool_user.use_tools(messages, execution_mode='automatic')"
   ]
  },
  {
   "cell_type": "code",
   "execution_count": null,
   "metadata": {},
   "outputs": [],
   "source": []
  }
 ],
 "metadata": {
  "kernelspec": {
   "display_name": "dev",
   "language": "python",
   "name": "python3"
  },
  "language_info": {
   "codemirror_mode": {
    "name": "ipython",
    "version": 3
   },
   "file_extension": ".py",
   "mimetype": "text/x-python",
   "name": "python",
   "nbconvert_exporter": "python",
   "pygments_lexer": "ipython3",
   "version": "3.11.7"
  }
 },
 "nbformat": 4,
 "nbformat_minor": 2
}
